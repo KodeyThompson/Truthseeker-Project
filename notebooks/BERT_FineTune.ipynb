{
 "cells": [
  {
   "cell_type": "code",
   "execution_count": null,
   "metadata": {
    "vscode": {
     "languageId": "plaintext"
    }
   },
   "outputs": [],
   "source": [
    "# BERT_FineTune.ipynb\n",
    "# Fine-Tuning BERT for Truthseeker Dataset\n",
    "\n",
    "from transformers import BertTokenizer, BertForSequenceClassification\n",
    "from transformers import Trainer, TrainingArguments\n",
    "from sklearn.model_selection import train_test_split\n",
    "import torch\n",
    "from datasets import Dataset\n",
    "\n",
    "# Load and preprocess data\n",
    "data = pd.read_csv('../data/Truth_Seeker_Model_Dataset.csv')\n",
    "train_data, test_data = train_test_split(data, test_size=0.2, stratify=data['target'])\n",
    "\n",
    "tokenizer = BertTokenizer.from_pretrained('bert-base-uncased')\n",
    "\n",
    "def preprocess(data):\n",
    "    return tokenizer(data['text_column'].tolist(), padding=True, truncation=True, max_length=512)\n",
    "\n",
    "train_encodings = preprocess(train_data)\n",
    "test_encodings = preprocess(test_data)\n",
    "\n",
    "train_dataset = Dataset.from_dict({**train_encodings, 'labels': train_data['target'].tolist()})\n",
    "test_dataset = Dataset.from_dict({**test_encodings, 'labels': test_data['target'].tolist()})\n",
    "\n",
    "# Define the model\n",
    "model = BertForSequenceClassification.from_pretrained('bert-base-uncased', num_labels=4)\n",
    "\n",
    "# Training arguments\n",
    "training_args = TrainingArguments(\n",
    "    output_dir='../results/',\n",
    "    evaluation_strategy=\"epoch\",\n",
    "    save_strategy=\"epoch\",\n",
    "    learning_rate=2e-5,\n",
    "    per_device_train_batch_size=8,\n",
    "    per_device_eval_batch_size=8,\n",
    "    num_train_epochs=3,\n",
    "    weight_decay=0.01,\n",
    ")\n",
    "\n",
    "# Trainer\n",
    "trainer = Trainer(\n",
    "    model=model,\n",
    "    args=training_args,\n",
    "    train_dataset=train_dataset,\n",
    "    eval_dataset=test_dataset,\n",
    ")\n",
    "\n",
    "# Train the model\n",
    "trainer.train()\n",
    "\n",
    "# Evaluate the model\n",
    "trainer.evaluate()"
   ]
  }
 ],
 "metadata": {
  "language_info": {
   "name": "python"
  }
 },
 "nbformat": 4,
 "nbformat_minor": 2
}

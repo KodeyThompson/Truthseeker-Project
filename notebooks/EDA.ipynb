{
 "cells": [
  {
   "cell_type": "code",
   "execution_count": null,
   "metadata": {
    "vscode": {
     "languageId": "plaintext"
    }
   },
   "outputs": [],
   "source": [
    "# EDA.ipynb\n",
    "# Exploratory Data Analysis for Truthseeker Dataset\n",
    "\n",
    "import pandas as pd\n",
    "import matplotlib.pyplot as plt\n",
    "import seaborn as sns\n",
    "\n",
    "# Load the dataset\n",
    "data = pd.read_csv('../data/Features_For_Traditional_ML_Techniques.csv')\n",
    "\n",
    "# Basic info\n",
    "print(\"Dataset Info:\")\n",
    "data.info()\n",
    "\n",
    "# Check for missing values\n",
    "print(\"Missing Values:\")\n",
    "print(data.isnull().sum())\n",
    "\n",
    "# Distribution of target classes\n",
    "print(\"Class Distribution:\")\n",
    "print(data['target_column'].value_counts())\n",
    "sns.countplot(data['target_column'])\n",
    "plt.title('Class Distribution')\n",
    "plt.show()\n",
    "\n",
    "# Correlation heatmap\n",
    "plt.figure(figsize=(10, 8))\n",
    "sns.heatmap(data.corr(), annot=True, fmt=\".2f\", cmap=\"coolwarm\")\n",
    "plt.title(\"Feature Correlation Heatmap\")\n",
    "plt.show()\n",
    "\n",
    "# Histograms for numerical features\n",
    "numerical_features = data.select_dtypes(include=['int64', 'float64']).columns\n",
    "data[numerical_features].hist(figsize=(15, 10))\n",
    "plt.suptitle(\"Feature Histograms\")\n",
    "plt.show()"
   ]
  }
 ],
 "metadata": {
  "language_info": {
   "name": "python"
  }
 },
 "nbformat": 4,
 "nbformat_minor": 2
}
